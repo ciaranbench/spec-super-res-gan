{
 "cells": [
  {
   "cell_type": "markdown",
   "id": "fdc58bb0",
   "metadata": {},
   "source": [
    "# Parsing training set\n",
    "\n",
    "https://github.com/conor-horgan/DeepeR has a link to a dataset of spectra. \n",
    "\n",
    "The database is composed of paired examples (noisy and high SNR versions of the same spectra)\n",
    "\n",
    "Here, we parse this dataset to train our unsupervised spectral denoising framework."
   ]
  },
  {
   "cell_type": "code",
   "execution_count": 1,
   "id": "c4bfac1b",
   "metadata": {},
   "outputs": [],
   "source": [
    "# .mat files are nto in hdf5 format for some reason, so we use scipy.io to read them...\n",
    "import numpy as np\n",
    "import scipy.io\n",
    "import random\n",
    "\n",
    "train_split = 0.8\n",
    "validation_split = 0.1\n",
    "assert((train_split + validation_split) < 1)\n",
    "test_split = 1 - (train_split + validation_split)\n",
    "\n",
    "hn_train = scipy.io.loadmat('Train_Inputs.mat')\n",
    "hn_train = hn_train['Train_Inputs']\n",
    "ln_train = scipy.io.loadmat('Train_Outputs.mat')\n",
    "ln_train = ln_train['Train_Outputs']\n",
    "\n",
    "hn_test = scipy.io.loadmat('Test_Inputs.mat')\n",
    "hn_test = hn_test['Test_Inputs']\n",
    "ln_test = scipy.io.loadmat('Test_Outputs.mat')\n",
    "ln_test = ln_test['Test_Outputs']"
   ]
  },
  {
   "cell_type": "code",
   "execution_count": 2,
   "id": "f7c3b346",
   "metadata": {},
   "outputs": [],
   "source": [
    "hn_all = np.concatenate((hn_train,hn_test), axis=0)\n",
    "ln_all = np.concatenate((ln_train,ln_test), axis=0)"
   ]
  },
  {
   "cell_type": "code",
   "execution_count": 3,
   "id": "ec91e820",
   "metadata": {},
   "outputs": [
    {
     "data": {
      "text/plain": [
       "(12694, 500)"
      ]
     },
     "execution_count": 3,
     "metadata": {},
     "output_type": "execute_result"
    }
   ],
   "source": [
    "np.shape(hn_test)"
   ]
  },
  {
   "cell_type": "code",
   "execution_count": 4,
   "id": "2c54fc8e",
   "metadata": {},
   "outputs": [],
   "source": [
    "randomised_indices = random.sample(range(0, np.round(np.shape(hn_all)[0])), int(np.floor(np.shape(hn_all)[0]*train_split)))\n",
    "train_indices = randomised_indices[:int(train_split*np.shape(hn_all)[0])]\n",
    "valid_indices = randomised_indices[int(train_split*np.shape(hn_all)[0]):int(train_split*np.shape(hn_all)[0])+int(validation_split*np.shape(hn_all)[0])]\n",
    "test_indices = randomised_indices[int(train_split*np.shape(hn_all)[0])+int(validation_split*np.shape(hn_all)[0]):]\n"
   ]
  },
  {
   "cell_type": "code",
   "execution_count": 5,
   "id": "ba8c40b7",
   "metadata": {},
   "outputs": [],
   "source": [
    "hn_train_set = hn_all[train_indices[:int(round(len(train_indices)/2))]]\n",
    "ln_train_set = ln_all[train_indices[int(round(len(train_indices)/2))]:]\n",
    "\n",
    "#validation set and test set is paired data\n",
    "hn_valid_set = hn_all[valid_indices]\n",
    "ln_valid_set = ln_all[valid_indices]\n",
    "\n",
    "hn_test_set = hn_all[test_indices]\n",
    "ln_test_set = ln_all[test_indices]"
   ]
  },
  {
   "cell_type": "code",
   "execution_count": 6,
   "id": "0325945f",
   "metadata": {},
   "outputs": [],
   "source": [
    "np.save('hn_train_set.npy', hn_train_set)\n",
    "np.save('ln_train_set.npy', ln_train_set)\n",
    "\n",
    "np.save('hn_valid_set.npy', hn_valid_set)\n",
    "np.save('ln_valid_set.npy', ln_valid_set)\n",
    "\n",
    "np.save('hn_test_set.npy', hn_test_set)\n",
    "np.save('ln_test_set.npy', ln_test_set)"
   ]
  },
  {
   "cell_type": "code",
   "execution_count": null,
   "id": "04511198",
   "metadata": {},
   "outputs": [],
   "source": []
  },
  {
   "cell_type": "code",
   "execution_count": null,
   "id": "19d70247",
   "metadata": {},
   "outputs": [],
   "source": []
  },
  {
   "cell_type": "code",
   "execution_count": null,
   "id": "4a9543d0",
   "metadata": {},
   "outputs": [],
   "source": []
  },
  {
   "cell_type": "code",
   "execution_count": null,
   "id": "7b9608ef",
   "metadata": {},
   "outputs": [],
   "source": []
  },
  {
   "cell_type": "code",
   "execution_count": null,
   "id": "4a5c7d29",
   "metadata": {},
   "outputs": [],
   "source": []
  },
  {
   "cell_type": "code",
   "execution_count": null,
   "id": "c769c73d",
   "metadata": {},
   "outputs": [],
   "source": []
  },
  {
   "cell_type": "code",
   "execution_count": null,
   "id": "9c1908fb",
   "metadata": {},
   "outputs": [],
   "source": []
  },
  {
   "cell_type": "code",
   "execution_count": 7,
   "id": "c105a73f",
   "metadata": {},
   "outputs": [
    {
     "ename": "NameError",
     "evalue": "name 'outfile' is not defined",
     "output_type": "error",
     "traceback": [
      "\u001b[0;31m---------------------------------------------------------------------------\u001b[0m",
      "\u001b[0;31mNameError\u001b[0m                                 Traceback (most recent call last)",
      "Cell \u001b[0;32mIn[7], line 1\u001b[0m\n\u001b[0;32m----> 1\u001b[0m np\u001b[38;5;241m.\u001b[39msave(\u001b[43moutfile\u001b[49m, x)\n",
      "\u001b[0;31mNameError\u001b[0m: name 'outfile' is not defined"
     ]
    }
   ],
   "source": []
  },
  {
   "cell_type": "code",
   "execution_count": null,
   "id": "019e5b4a",
   "metadata": {},
   "outputs": [],
   "source": []
  },
  {
   "cell_type": "code",
   "execution_count": null,
   "id": "8a53b29f",
   "metadata": {},
   "outputs": [],
   "source": []
  }
 ],
 "metadata": {
  "kernelspec": {
   "display_name": "Python 3 (ipykernel)",
   "language": "python",
   "name": "python3"
  },
  "language_info": {
   "codemirror_mode": {
    "name": "ipython",
    "version": 3
   },
   "file_extension": ".py",
   "mimetype": "text/x-python",
   "name": "python",
   "nbconvert_exporter": "python",
   "pygments_lexer": "ipython3",
   "version": "3.10.6"
  }
 },
 "nbformat": 4,
 "nbformat_minor": 5
}
