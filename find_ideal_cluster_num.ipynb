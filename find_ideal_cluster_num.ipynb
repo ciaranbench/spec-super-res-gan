{
 "cells": [
  {
   "cell_type": "code",
   "execution_count": null,
   "id": "9a9caf1c",
   "metadata": {},
   "outputs": [],
   "source": [
    "from sklearn import metrics\n",
    "from sklearn.cluster import KMeans\n",
    "from sklearn.metrics import pairwise_distances\n",
    "from sklearn.metrics import davies_bouldin_score\n",
    "from sklearn.metrics import silhouette_score\n",
    "from sklearn.metrics import calinski_harabasz_score\n",
    "import numpy as np\n",
    "scores = []\n",
    "scores2 = []\n",
    "scores3 = []\n",
    "clean_va = np.squeeze(np.load('ln_valid_set.npy'))\n",
    "for i in range(2,50,2):\n",
    "    kmeans_model = KMeans(n_clusters=i, random_state=4).fit(clean_va)\n",
    "    print(i)\n",
    "    labels = kmeans_model.labels_\n",
    "    score = metrics.silhouette_score(clean_va, labels, metric='euclidean')\n",
    "    scores.append(score)\n",
    "    scores2.append(metrics.calinski_harabasz_score(clean_va, labels))\n",
    "    scores3.append(davies_bouldin_score(clean_va, labels))\n"
   ]
  },
  {
   "cell_type": "code",
   "execution_count": null,
   "id": "e31cd7c4",
   "metadata": {},
   "outputs": [],
   "source": [
    "import matplotlib.pyplot as plt\n",
    "plt.plot(scores)"
   ]
  },
  {
   "cell_type": "code",
   "execution_count": null,
   "id": "a0ae8579",
   "metadata": {},
   "outputs": [],
   "source": [
    "plt.plot(scores2)"
   ]
  },
  {
   "cell_type": "code",
   "execution_count": null,
   "id": "ec6130df",
   "metadata": {},
   "outputs": [],
   "source": [
    "plt.plot(scores3)"
   ]
  },
  {
   "cell_type": "code",
   "execution_count": null,
   "id": "120cea3c",
   "metadata": {},
   "outputs": [],
   "source": [
    "np.where(scores2 == np.max(scores2))\n",
    "scores2"
   ]
  }
 ],
 "metadata": {
  "kernelspec": {
   "display_name": "Python 3 (ipykernel)",
   "language": "python",
   "name": "python3"
  },
  "language_info": {
   "codemirror_mode": {
    "name": "ipython",
    "version": 3
   },
   "file_extension": ".py",
   "mimetype": "text/x-python",
   "name": "python",
   "nbconvert_exporter": "python",
   "pygments_lexer": "ipython3",
   "version": "3.10.6"
  }
 },
 "nbformat": 4,
 "nbformat_minor": 5
}
