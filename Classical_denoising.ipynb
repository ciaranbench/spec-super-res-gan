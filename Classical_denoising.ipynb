{
 "cells": [
  {
   "cell_type": "markdown",
   "id": "7d6f88b0",
   "metadata": {},
   "source": [
    "# Classical denoising\n",
    "Here, we denoise test spectra using a range of classical denoising techniques.\n",
    "We use denoise spectra using a range of parameterisations for each technique."
   ]
  },
  {
   "cell_type": "code",
   "execution_count": 1,
   "id": "8bc963c1",
   "metadata": {},
   "outputs": [],
   "source": [
    "import numpy as np\n",
    "from scipy import signal\n",
    "import matplotlib.pyplot as plt\n",
    "from BaselineRemoval import BaselineRemoval\n",
    "from sklearn.decomposition import PCA, KernelPCA\n",
    "from skimage.restoration import denoise_wavelet\n",
    "import matplotlib.pyplot as plt"
   ]
  },
  {
   "cell_type": "code",
   "execution_count": 2,
   "id": "a3c91704",
   "metadata": {},
   "outputs": [],
   "source": [
    "# all of these files are generated at the end of a training epoch. \n",
    "# The are the test set of spectra, the corresponding ground truths, and the network denoised data\n",
    "\n",
    "network_pred=np.load('./epoch_20/network_denoised.npy')\n",
    "network_pred_GT = np.load('./epoch_20/network_denoised_GT.npy')\n",
    "network_pred_input = np.load('./epoch_20/network_input.npy')\n",
    "# we duplicate the noisy test spectra so we can baseline correct/normalise them for plotting, \n",
    "# while using the originals to evaluate our denoising techniques\n",
    "network_pred_input_baseline_norm = network_pred_input\n",
    "\n",
    "# test spectra used for evaluation\n",
    "test_spectra = np.squeeze(network_pred_input)\n",
    "\n",
    "# We add a small constant so we can apply a baseline correction to test spectra that have \n",
    "#already been baseline corrected. This is necessary, as these are not currently labelled. \n",
    "network_pred_GT = network_pred_GT + .001*np.ones((np.shape(network_pred_GT)))\n",
    "\n"
   ]
  },
  {
   "cell_type": "code",
   "execution_count": 5,
   "id": "c9427f4d",
   "metadata": {},
   "outputs": [],
   "source": [
    "#baseline correct the test spectra and ground triths, \n",
    "# and normalise them spectra based on their max value\n",
    "\n",
    "for i in range(np.shape(network_pred)[0]):\n",
    "    baseObj=BaselineRemoval(network_pred_GT[i])\n",
    "    Modpoly_output=baseObj.ModPoly(3)\n",
    "    network_pred_GT[i] = Modpoly_output/np.max(Modpoly_output)\n",
    "    \n",
    "    baseObj=BaselineRemoval(network_pred[i])\n",
    "    Modpoly_output=baseObj.ModPoly(3)\n",
    "    network_pred[i] = Modpoly_output/np.max(Modpoly_output)\n",
    "    \n",
    "    baseObj=BaselineRemoval(network_pred_input[i])\n",
    "    Modpoly_output=baseObj.ModPoly(3)\n",
    "    network_pred_input_baseline_norm[i] = Modpoly_output/np.max(Modpoly_output)"
   ]
  },
  {
   "cell_type": "code",
   "execution_count": 6,
   "id": "4070c5da",
   "metadata": {},
   "outputs": [],
   "source": [
    "np.save('network_pred_GT_corrected_normalised',network_pred_GT)\n",
    "np.save('network_pred_corrected_normalised',network_pred)\n",
    "np.save('network_input_corrected_normalised',network_pred_input_baseline_norm)"
   ]
  },
  {
   "cell_type": "markdown",
   "id": "f3aa3e84",
   "metadata": {},
   "source": [
    "# Savitsky-Golay smoothing"
   ]
  },
  {
   "cell_type": "code",
   "execution_count": 8,
   "id": "15407687",
   "metadata": {},
   "outputs": [],
   "source": [
    "SG_spectra = []\n",
    "\n",
    "window_lengths = range(5,80,5)\n",
    "\n",
    "for window_length in window_lengths:\n",
    "    smoothed_spectra = np.zeros(np.shape(test_spectra))\n",
    "    for i in range(np.shape(test_spectra)[0]):\n",
    "        smoothed_spectra[i] = signal.savgol_filter(test_spectra[i], window_length=window_length, polyorder=3, mode=\"nearest\")\n",
    "\n",
    "    # baseline correct/normalise smoothed spectrum\n",
    "    for i in range(np.shape(smoothed_spectra)[0]):\n",
    "        baseObj=BaselineRemoval(smoothed_spectra[i])\n",
    "        mod=baseObj.ModPoly(3)\n",
    "        smoothed_spectra[i]=mod/np.max(mod)\n",
    "    SG_spectra.append(smoothed_spectra)\n",
    "SG_params = window_lengths"
   ]
  },
  {
   "cell_type": "markdown",
   "id": "01a16ca1",
   "metadata": {},
   "source": [
    "# PCA denoising"
   ]
  },
  {
   "cell_type": "code",
   "execution_count": 12,
   "id": "2ff32268",
   "metadata": {},
   "outputs": [
    {
     "data": {
      "text/html": [
       "<style>#sk-container-id-1 {color: black;background-color: white;}#sk-container-id-1 pre{padding: 0;}#sk-container-id-1 div.sk-toggleable {background-color: white;}#sk-container-id-1 label.sk-toggleable__label {cursor: pointer;display: block;width: 100%;margin-bottom: 0;padding: 0.3em;box-sizing: border-box;text-align: center;}#sk-container-id-1 label.sk-toggleable__label-arrow:before {content: \"▸\";float: left;margin-right: 0.25em;color: #696969;}#sk-container-id-1 label.sk-toggleable__label-arrow:hover:before {color: black;}#sk-container-id-1 div.sk-estimator:hover label.sk-toggleable__label-arrow:before {color: black;}#sk-container-id-1 div.sk-toggleable__content {max-height: 0;max-width: 0;overflow: hidden;text-align: left;background-color: #f0f8ff;}#sk-container-id-1 div.sk-toggleable__content pre {margin: 0.2em;color: black;border-radius: 0.25em;background-color: #f0f8ff;}#sk-container-id-1 input.sk-toggleable__control:checked~div.sk-toggleable__content {max-height: 200px;max-width: 100%;overflow: auto;}#sk-container-id-1 input.sk-toggleable__control:checked~label.sk-toggleable__label-arrow:before {content: \"▾\";}#sk-container-id-1 div.sk-estimator input.sk-toggleable__control:checked~label.sk-toggleable__label {background-color: #d4ebff;}#sk-container-id-1 div.sk-label input.sk-toggleable__control:checked~label.sk-toggleable__label {background-color: #d4ebff;}#sk-container-id-1 input.sk-hidden--visually {border: 0;clip: rect(1px 1px 1px 1px);clip: rect(1px, 1px, 1px, 1px);height: 1px;margin: -1px;overflow: hidden;padding: 0;position: absolute;width: 1px;}#sk-container-id-1 div.sk-estimator {font-family: monospace;background-color: #f0f8ff;border: 1px dotted black;border-radius: 0.25em;box-sizing: border-box;margin-bottom: 0.5em;}#sk-container-id-1 div.sk-estimator:hover {background-color: #d4ebff;}#sk-container-id-1 div.sk-parallel-item::after {content: \"\";width: 100%;border-bottom: 1px solid gray;flex-grow: 1;}#sk-container-id-1 div.sk-label:hover label.sk-toggleable__label {background-color: #d4ebff;}#sk-container-id-1 div.sk-serial::before {content: \"\";position: absolute;border-left: 1px solid gray;box-sizing: border-box;top: 0;bottom: 0;left: 50%;z-index: 0;}#sk-container-id-1 div.sk-serial {display: flex;flex-direction: column;align-items: center;background-color: white;padding-right: 0.2em;padding-left: 0.2em;position: relative;}#sk-container-id-1 div.sk-item {position: relative;z-index: 1;}#sk-container-id-1 div.sk-parallel {display: flex;align-items: stretch;justify-content: center;background-color: white;position: relative;}#sk-container-id-1 div.sk-item::before, #sk-container-id-1 div.sk-parallel-item::before {content: \"\";position: absolute;border-left: 1px solid gray;box-sizing: border-box;top: 0;bottom: 0;left: 50%;z-index: -1;}#sk-container-id-1 div.sk-parallel-item {display: flex;flex-direction: column;z-index: 1;position: relative;background-color: white;}#sk-container-id-1 div.sk-parallel-item:first-child::after {align-self: flex-end;width: 50%;}#sk-container-id-1 div.sk-parallel-item:last-child::after {align-self: flex-start;width: 50%;}#sk-container-id-1 div.sk-parallel-item:only-child::after {width: 0;}#sk-container-id-1 div.sk-dashed-wrapped {border: 1px dashed gray;margin: 0 0.4em 0.5em 0.4em;box-sizing: border-box;padding-bottom: 0.4em;background-color: white;}#sk-container-id-1 div.sk-label label {font-family: monospace;font-weight: bold;display: inline-block;line-height: 1.2em;}#sk-container-id-1 div.sk-label-container {text-align: center;}#sk-container-id-1 div.sk-container {/* jupyter's `normalize.less` sets `[hidden] { display: none; }` but bootstrap.min.css set `[hidden] { display: none !important; }` so we also need the `!important` here to be able to override the default hidden behavior on the sphinx rendered scikit-learn.org. See: https://github.com/scikit-learn/scikit-learn/issues/21755 */display: inline-block !important;position: relative;}#sk-container-id-1 div.sk-text-repr-fallback {display: none;}</style><div id=\"sk-container-id-1\" class=\"sk-top-container\"><div class=\"sk-text-repr-fallback\"><pre>PCA(n_components=2)</pre><b>In a Jupyter environment, please rerun this cell to show the HTML representation or trust the notebook. <br />On GitHub, the HTML representation is unable to render, please try loading this page with nbviewer.org.</b></div><div class=\"sk-container\" hidden><div class=\"sk-item\"><div class=\"sk-estimator sk-toggleable\"><input class=\"sk-toggleable__control sk-hidden--visually\" id=\"sk-estimator-id-1\" type=\"checkbox\" checked><label for=\"sk-estimator-id-1\" class=\"sk-toggleable__label sk-toggleable__label-arrow\">PCA</label><div class=\"sk-toggleable__content\"><pre>PCA(n_components=2)</pre></div></div></div></div></div>"
      ],
      "text/plain": [
       "PCA(n_components=2)"
      ]
     },
     "execution_count": 12,
     "metadata": {},
     "output_type": "execute_result"
    }
   ],
   "source": [
    "PCA_components = range(2,10,1)\n",
    "PCA_spectra = []\n",
    "PCA_params = PCA_components\n",
    "for n_components in PCA_components:\n",
    "    pca = PCA(n_components=n_components)\n",
    "\n",
    "\n",
    "    pca.fit(np.squeeze(test_spectra))\n",
    "    X_reconstructed_pca = pca.inverse_transform(pca.transform(test_spectra))\n",
    "    # baseline correct/normalise smoothed spectra\n",
    "    for i in range(np.shape(X_reconstructed_pca)[0]):\n",
    "        baseObj=BaselineRemoval(X_reconstructed_pca[i])\n",
    "        mod=baseObj.ModPoly(3)\n",
    "        X_reconstructed_pca[i]=mod/np.max(mod)\n",
    "    PCA_spectra.append(X_reconstructed_pca)"
   ]
  },
  {
   "cell_type": "markdown",
   "id": "c08e85fe",
   "metadata": {},
   "source": [
    "# Wavelet denoising"
   ]
  },
  {
   "cell_type": "code",
   "execution_count": 18,
   "id": "4d8f8116",
   "metadata": {},
   "outputs": [],
   "source": [
    "wavelet_spectra = []\n",
    "wavelet_levels = range(1,10,1)\n",
    "wavelet_spectra_params = wavelet_levels\n",
    "for wavelet_level in wavelet_levels:\n",
    "    spec_denoise_w = np.zeros(np.shape(test_spectra))\n",
    "    for i in range(np.shape(test_spectra)[0]):\n",
    "        spec_denoise_w[i] = denoise_wavelet(test_spectra[i], method='BayesShrink', mode='soft', wavelet_levels=wavelet_level, wavelet='sym8', rescale_sigma='True')\n",
    "        #baseline correct and normalise\n",
    "    for i in range(np.shape(spec_denoise_w)[0]):\n",
    "        baseObj=BaselineRemoval(spec_denoise_w[i])\n",
    "        mod=baseObj.ModPoly(3)\n",
    "        spec_denoise_w[i]=mod/np.max(mod)\n",
    "    wavelet_spectra.append(spec_denoise_w)"
   ]
  },
  {
   "cell_type": "markdown",
   "id": "bc109c65",
   "metadata": {},
   "source": [
    "# Save all classically denoised spectra + params"
   ]
  },
  {
   "cell_type": "code",
   "execution_count": 19,
   "id": "e2848efe",
   "metadata": {},
   "outputs": [],
   "source": [
    "np.save('wavelet_spectra',wavelet_spectra)\n",
    "np.save('PCA_spectra',PCA_spectra)\n",
    "np.save('SG_spectra',SG_spectra)\n",
    "\n",
    "np.save('wavelet_spectra_params',wavelet_spectra_params)\n",
    "np.save('PCA_spectra_params',PCA_params)\n",
    "np.save('SG_spectra_params',SG_params)\n",
    "\n",
    "\n"
   ]
  }
 ],
 "metadata": {
  "kernelspec": {
   "display_name": "Python 3 (ipykernel)",
   "language": "python",
   "name": "python3"
  },
  "language_info": {
   "codemirror_mode": {
    "name": "ipython",
    "version": 3
   },
   "file_extension": ".py",
   "mimetype": "text/x-python",
   "name": "python",
   "nbconvert_exporter": "python",
   "pygments_lexer": "ipython3",
   "version": "3.10.6"
  }
 },
 "nbformat": 4,
 "nbformat_minor": 5
}
