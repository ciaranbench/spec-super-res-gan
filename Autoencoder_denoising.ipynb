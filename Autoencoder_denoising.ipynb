{
 "cells": [
  {
   "cell_type": "markdown",
   "id": "7d6f88b0",
   "metadata": {},
   "source": [
    "# Autoencoder post-processing\n",
    "Here, we post-process the autoencoder denoised spectra"
   ]
  },
  {
   "cell_type": "code",
   "execution_count": null,
   "id": "8bc963c1",
   "metadata": {
    "tags": []
   },
   "outputs": [],
   "source": [
    "import numpy as np\n",
    "from scipy import signal\n",
    "import matplotlib.pyplot as plt\n",
    "from BaselineRemoval import BaselineRemoval\n",
    "from sklearn.decomposition import PCA, KernelPCA\n",
    "from skimage.restoration import denoise_wavelet\n",
    "import matplotlib.pyplot as plt"
   ]
  },
  {
   "cell_type": "code",
   "execution_count": null,
   "id": "a3c91704",
   "metadata": {},
   "outputs": [],
   "source": [
    "# load in AE denoised spectra\n",
    "AE_pred=np.load('./epoch_13/AE_denoised.npy')\n",
    "# add small constant to enable baseline correction\n",
    "AE_pred[np.where(AE_pred==0)] = 0.0001"
   ]
  },
  {
   "cell_type": "code",
   "execution_count": null,
   "id": "c9427f4d",
   "metadata": {},
   "outputs": [],
   "source": [
    "#baseline correct the denoised spectra, \n",
    "# and normalise them based on their max value\n",
    "\n",
    "for i in range(np.shape(AE_pred)[0]):\n",
    "    #print(i)\n",
    "    baseObj=BaselineRemoval(AE_pred[i])\n",
    "    Modpoly_output=baseObj.ModPoly(3)\n",
    "    AE_pred[i] = Modpoly_output/np.max(Modpoly_output)\n",
    "    \n"
   ]
  },
  {
   "cell_type": "code",
   "execution_count": null,
   "id": "4070c5da",
   "metadata": {},
   "outputs": [],
   "source": [
    "np.save('AE_pred_corrected_normalised',AE_pred)"
   ]
  }
 ],
 "metadata": {
  "kernelspec": {
   "display_name": "Python 3 (ipykernel)",
   "language": "python",
   "name": "python3"
  },
  "language_info": {
   "codemirror_mode": {
    "name": "ipython",
    "version": 3
   },
   "file_extension": ".py",
   "mimetype": "text/x-python",
   "name": "python",
   "nbconvert_exporter": "python",
   "pygments_lexer": "ipython3",
   "version": "3.10.6"
  }
 },
 "nbformat": 4,
 "nbformat_minor": 5
}
